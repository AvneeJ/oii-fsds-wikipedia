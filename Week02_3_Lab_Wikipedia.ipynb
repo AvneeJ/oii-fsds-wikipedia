{
 "cells": [
  {
   "cell_type": "markdown",
   "metadata": {},
   "source": [
    "# Fundamentals of Social Data Science \n",
    "## Week 2 Day 2 Lab: Exploring Time Series Data\n",
    "\n",
    "Today we will make use of the `wiki-time-plots.py` script. This has been pushed now to the oii-fsds-wikipedia repository. You should be able to fetch it to your repo the same way that you fetched the files for the previous lab. \n",
    "\n",
    "With your downloaded DataFrames, use these scripts in order to view the edit history over time. By default this script will simply view a count of edit history. It will need further processing if you wish to choose another column. For your presentation on Monday, please consider what word, phrase, or feature of the revisions you wish to show over time. You will also need to consider how you can plot two distributions. The moving average code will plot the revisions and the moving average. You can use this to help understand how to plot to separate revisions. \n",
    "\n",
    "You are welcome to use AI tools in order to assist you in drafting this code. However, your group will be responsible for the code regardless of its provenance. \"A poor worker blames their tools\". \n",
    "\n",
    "Draw upon your group's potential expertise in social science to come up with a theoretically informed rationale for a given comparison. "
   ]
  },
  {
   "cell_type": "markdown",
   "metadata": {},
   "source": [
    "Some steps to consider with your code:\n",
    "- Create a new function that extracts a feature. \n",
    "- Plot that feature in a similar way as the raw count moving average.\n",
    "- Understand how to use this code either in Jupyter (i.e. VS Code) or as a script. \n",
    "- I will demonstrate the use of `%autoreload` in class. "
   ]
  },
  {
   "cell_type": "markdown",
   "metadata": {},
   "source": [
    "You can use the script below if you wish in order to run the commands directly within a Jupyter notebook rather than via that terminal. "
   ]
  },
  {
   "cell_type": "code",
   "execution_count": null,
   "metadata": {},
   "outputs": [],
   "source": [
    "# Example Jupyter notebook usage\n",
    "# Load the extension\n",
    "# %load_ext autoreload\n",
    "\n",
    "# Import the module\n",
    "import wiki_time_plots as wtp\n",
    "\n",
    "# Load some data\n",
    "df = wtp.load_wiki_data('DataFrames/Data.feather')\n",
    "\n",
    "# You can also modify the style if needed\n",
    "wtp.set_plot_style()  # Apply the custom style to all subsequent plots\n",
    "\n",
    "# Create a basic plot\n",
    "# fig = wtp.plot_revision_counts(\n",
    "#     df=df,\n",
    "#     article_name=\"Data\",\n",
    "#     moving_average=False\n",
    "# )\n",
    "\n",
    "# Create a plot with moving averages\n",
    "fig_ma = wtp.plot_revision_counts(\n",
    "    df=df,\n",
    "    article_name=\"Data\",\n",
    "    moving_average=True\n",
    ")\n",
    "\n",
    "# If you want to use specific functions directly\n",
    "# fig_raw = wtp.create_time_series_plots_raw(\n",
    "#     df=df,\n",
    "#     article_name=\"Data\"\n",
    "# )\n"
   ]
  },
  {
   "cell_type": "code",
   "execution_count": null,
   "metadata": {},
   "outputs": [],
   "source": []
  }
 ],
 "metadata": {
  "kernelspec": {
   "display_name": ".venv",
   "language": "python",
   "name": "python3"
  },
  "language_info": {
   "codemirror_mode": {
    "name": "ipython",
    "version": 3
   },
   "file_extension": ".py",
   "mimetype": "text/x-python",
   "name": "python",
   "nbconvert_exporter": "python",
   "pygments_lexer": "ipython3",
   "version": "3.10.11"
  }
 },
 "nbformat": 4,
 "nbformat_minor": 2
}
